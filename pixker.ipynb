{
 "metadata": {
  "language_info": {
   "codemirror_mode": {
    "name": "ipython",
    "version": 3
   },
   "file_extension": ".py",
   "mimetype": "text/x-python",
   "name": "python",
   "nbconvert_exporter": "python",
   "pygments_lexer": "ipython3",
   "version": "3.7.4"
  },
  "orig_nbformat": 2,
  "kernelspec": {
   "name": "python3",
   "display_name": "Python 3.7.4 32-bit",
   "metadata": {
    "interpreter": {
     "hash": "60ade66fed929c1d4980e1c21c521dedbb2d60453b20d802248af10059e6280e"
    }
   }
  }
 },
 "nbformat": 4,
 "nbformat_minor": 2,
 "cells": [
  {
   "cell_type": "code",
   "execution_count": 33,
   "metadata": {},
   "outputs": [],
   "source": [
    "# course slots\n",
    "courses={   0:['S1','S2','S6','S7'],\n",
    "            1:['S1','S2','S7'],\n",
    "            2:['S1','S2','S3','S4'],\n",
    "            3:['S5','S3','S5'],\n",
    "            4:['S6'],\n",
    "            5:['S7'],\n",
    "            }\n",
    "        \n",
    "assigned={}\n"
   ]
  },
  {
   "cell_type": "code",
   "execution_count": 34,
   "metadata": {},
   "outputs": [
    {
     "output_type": "stream",
     "name": "stdout",
     "text": [
      "0\n1\n2\n3\n4\n5\n1\n{4: 'S6', 5: 'S7'}\ndict_keys([4, 5])\n"
     ]
    }
   ],
   "source": [
    "# assigned \n",
    "\n",
    "minL=999\n",
    "x=1\n",
    "\n",
    "for x in courses:\n",
    "    print(x)\n",
    "    minL=min(minL,len(courses[x]))\n",
    "    if len(courses[x])==1:\n",
    "        # x+=1        \n",
    "        if x in assigned:\n",
    "            print('not possible')\n",
    "        assigned[x]=courses[x][0]\n",
    "        \n",
    "        \n",
    "    \n",
    "print(minL)\n",
    "print(assigned)\n",
    "print(assigned.keys())\n"
   ]
  },
  {
   "cell_type": "code",
   "execution_count": 36,
   "metadata": {},
   "outputs": [
    {
     "output_type": "stream",
     "name": "stdout",
     "text": [
      "{0: ['S1', 'S2'], 1: ['S1', 'S2'], 2: ['S1', 'S2', 'S3', 'S4'], 3: ['S5', 'S3', 'S5']}\n"
     ]
    }
   ],
   "source": [
    "# remove the single depth courses\n",
    "\n",
    "for x in assigned:\n",
    "    del courses[x]\n",
    "\n",
    "print(courses)\n"
   ]
  },
  {
   "cell_type": "code",
   "execution_count": 37,
   "metadata": {},
   "outputs": [
    {
     "output_type": "stream",
     "name": "stdout",
     "text": [
      "{0: ['S1', 'S2'], 1: ['S1', 'S2'], 2: ['S1', 'S2', 'S3', 'S4'], 3: ['S5', 'S3', 'S5']}\n"
     ]
    }
   ],
   "source": [
    "# remove selected slots\n",
    "for x in courses:\n",
    "    for y in assigned.values():\n",
    "        if y in courses[x]:\n",
    "            courses[x].remove(y)\n",
    "\n",
    "\n",
    "print(courses)\n"
   ]
  },
  {
   "cell_type": "code",
   "execution_count": null,
   "metadata": {},
   "outputs": [],
   "source": []
  }
 ]
}